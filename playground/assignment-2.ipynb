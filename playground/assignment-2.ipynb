{
 "cells": [
  {
   "cell_type": "code",
   "execution_count": 1,
   "id": "7f9692c5",
   "metadata": {},
   "outputs": [],
   "source": [
    " import pyparsing as pp\n",
    "\n",
    "def process_template(template):\n",
    "    # Define pyparsing grammar for commands and content\n",
    "    command_start = pp.Suppress(\"{{\")\n",
    "    command_end = pp.Suppress(\"}}\")\n",
    "    command_name = pp.Word(pp.alphas, pp.alphanums + \"_\")\n",
    "    command = command_start + command_name +  command_end\n",
    "    content = pp.Regex(r\"[^{}]+\")\n",
    "\n",
    "    # Parse the template\n",
    "    parsed_template = pp.OneOrMore(command | content).parseString(template)\n",
    "\n",
    "    # Process the parsed elements\n",
    "    user_segment = \"\"\n",
    "    assistant_segment = []\n",
    "    gen_command_count = 0\n",
    "    for element in parsed_template:\n",
    "        if isinstance(element, pp.ParseResults):\n",
    "            if (element[\"command\"]|element[\"content\"]).startswith(\"gen\"):\n",
    "                if gen_command_count == 2:\n",
    "                    continue\n",
    "                gen_command_count += 1\n",
    "            assistant_segment.append(element)\n",
    "        else:\n",
    "            user_segment += element\n",
    "\n",
    "    assistant_segment = ''.join(assistant_segment)\n",
    "\n",
    "    if not assistant_segment.endswith(\"{{gen 'rewrite' }}\"):\n",
    "        assistant_segment += \"{{gen 'rewrite' }}\"\n",
    "\n",
    "    assistant_segment = \"{{#assistant}}\"+\"{}\".format(assistant_segment)+\"{{/assistant}}\"\n",
    "\n",
    "    return (\"{{#user}}\"+\"{}\".format(user_segment)+\"{{/user}}\"+ \"{}\".format( assistant_segment))"
   ]
  },
  {
   "cell_type": "code",
   "execution_count": 2,
   "id": "fee5b7cd",
   "metadata": {},
   "outputs": [
    {
     "name": "stdout",
     "output_type": "stream",
     "text": [
      "{{#user}}Tweak this proverb to apply to model instructions instead. Where there is no guidance {{/user}}{{#assistant}}{{gen 'rewrite' }}{{/assistant}}\n"
     ]
    }
   ],
   "source": [
    "template = \"Tweak this proverb to apply to model instructions instead. Where there is no guidance {{gen 'rewrite'}}\"\n",
    "\n",
    "processed_template = process_template(template)\n",
    "\n",
    "print(processed_template)"
   ]
  },
  {
   "cell_type": "code",
   "execution_count": 5,
   "id": "1f81a5e4",
   "metadata": {},
   "outputs": [
    {
     "name": "stdout",
     "output_type": "stream",
     "text": [
      "{{#user}}how are things going, tell me about Delhi{{/user}}{{#assistant}}{{gen 'rewrite' }}{{/assistant}}\n"
     ]
    }
   ],
   "source": [
    "template = \"how are things going, tell me about Delhi\"\n",
    "processed_template = process_template(template)\n",
    "\n",
    "print(processed_template)"
   ]
  },
  {
   "cell_type": "code",
   "execution_count": null,
   "id": "5defd371",
   "metadata": {},
   "outputs": [],
   "source": []
  }
 ],
 "metadata": {
  "kernelspec": {
   "display_name": "Python 3 (ipykernel)",
   "language": "python",
   "name": "python3"
  },
  "language_info": {
   "codemirror_mode": {
    "name": "ipython",
    "version": 3
   },
   "file_extension": ".py",
   "mimetype": "text/x-python",
   "name": "python",
   "nbconvert_exporter": "python",
   "pygments_lexer": "ipython3",
   "version": "3.9.13"
  }
 },
 "nbformat": 4,
 "nbformat_minor": 5
}
